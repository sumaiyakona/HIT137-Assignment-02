{
  "nbformat": 4,
  "nbformat_minor": 0,
  "metadata": {
    "colab": {
      "provenance": []
    },
    "kernelspec": {
      "name": "python3",
      "display_name": "Python 3"
    },
    "language_info": {
      "name": "python"
    }
  },
  "cells": [
    {
      "cell_type": "code",
      "execution_count": 3,
      "metadata": {
        "colab": {
          "base_uri": "https://localhost:8080/"
        },
        "id": "0mwaLHHfNfhu",
        "outputId": "25730314-6e00-4fc6-bc3a-c43203b5f030"
      },
      "outputs": [
        {
          "output_type": "stream",
          "name": "stdout",
          "text": [
            "107\n"
          ]
        }
      ],
      "source": [
        "import time\n",
        "\n",
        "# Get the current time as an integer\n",
        "current_time = int(time.time())\n",
        "\n",
        "# Generate the number using the current time\n",
        "generated_number = (current_time % 100) + 50\n",
        "\n",
        "# Check if the generated number is even, and if so, add 10\n",
        "if generated_number % 2 == 0:\n",
        "    generated_number += 10\n",
        "\n",
        "# Print the final generated number\n",
        "print(generated_number)\n"
      ]
    },
    {
      "cell_type": "code",
      "source": [
        "from PIL import Image\n",
        "\n",
        "# Load the image\n",
        "image = Image.open('/content/chapter1.png')\n",
        "pixels = image.load()\n",
        "\n",
        "# Use the generated number\n",
        "n = 107\n",
        "\n",
        "# Initialize the sum of red pixels\n",
        "red_sum = 0\n",
        "\n",
        "# Iterate over each pixel in the image\n",
        "for i in range(image.width):\n",
        "    for j in range(image.height):\n",
        "        r, g, b = pixels[i, j]\n",
        "\n",
        "        # Modify the pixel values by adding 'n'\n",
        "        new_r = min(r + n, 255)  # Ensure we don't exceed 255\n",
        "        new_g = min(g + n, 255)\n",
        "        new_b = min(b + n, 255)\n",
        "\n",
        "        # Update the pixel with new values\n",
        "        pixels[i, j] = (new_r, new_g, new_b)\n",
        "\n",
        "        # Add the red value to the sum\n",
        "        red_sum += new_r\n",
        "\n",
        "# Save the new image as 'chapter1out.png'\n",
        "image.save('chapter1out.png')\n",
        "\n",
        "# Output the sum of red pixel values\n",
        "print(\"Sum of red pixels:\", red_sum)\n"
      ],
      "metadata": {
        "colab": {
          "base_uri": "https://localhost:8080/",
          "height": 211
        },
        "id": "o3QQWhNaP-79",
        "outputId": "65d5ab47-999f-4f10-c8a9-d64f9d030b2c"
      },
      "execution_count": 4,
      "outputs": [
        {
          "output_type": "error",
          "ename": "ValueError",
          "evalue": "too many values to unpack (expected 3)",
          "traceback": [
            "\u001b[0;31m---------------------------------------------------------------------------\u001b[0m",
            "\u001b[0;31mValueError\u001b[0m                                Traceback (most recent call last)",
            "\u001b[0;32m<ipython-input-4-e220b0deab82>\u001b[0m in \u001b[0;36m<cell line: 14>\u001b[0;34m()\u001b[0m\n\u001b[1;32m     14\u001b[0m \u001b[0;32mfor\u001b[0m \u001b[0mi\u001b[0m \u001b[0;32min\u001b[0m \u001b[0mrange\u001b[0m\u001b[0;34m(\u001b[0m\u001b[0mimage\u001b[0m\u001b[0;34m.\u001b[0m\u001b[0mwidth\u001b[0m\u001b[0;34m)\u001b[0m\u001b[0;34m:\u001b[0m\u001b[0;34m\u001b[0m\u001b[0;34m\u001b[0m\u001b[0m\n\u001b[1;32m     15\u001b[0m     \u001b[0;32mfor\u001b[0m \u001b[0mj\u001b[0m \u001b[0;32min\u001b[0m \u001b[0mrange\u001b[0m\u001b[0;34m(\u001b[0m\u001b[0mimage\u001b[0m\u001b[0;34m.\u001b[0m\u001b[0mheight\u001b[0m\u001b[0;34m)\u001b[0m\u001b[0;34m:\u001b[0m\u001b[0;34m\u001b[0m\u001b[0;34m\u001b[0m\u001b[0m\n\u001b[0;32m---> 16\u001b[0;31m         \u001b[0mr\u001b[0m\u001b[0;34m,\u001b[0m \u001b[0mg\u001b[0m\u001b[0;34m,\u001b[0m \u001b[0mb\u001b[0m \u001b[0;34m=\u001b[0m \u001b[0mpixels\u001b[0m\u001b[0;34m[\u001b[0m\u001b[0mi\u001b[0m\u001b[0;34m,\u001b[0m \u001b[0mj\u001b[0m\u001b[0;34m]\u001b[0m\u001b[0;34m\u001b[0m\u001b[0;34m\u001b[0m\u001b[0m\n\u001b[0m\u001b[1;32m     17\u001b[0m \u001b[0;34m\u001b[0m\u001b[0m\n\u001b[1;32m     18\u001b[0m         \u001b[0;31m# Modify the pixel values by adding 'n'\u001b[0m\u001b[0;34m\u001b[0m\u001b[0;34m\u001b[0m\u001b[0m\n",
            "\u001b[0;31mValueError\u001b[0m: too many values to unpack (expected 3)"
          ]
        }
      ]
    },
    {
      "cell_type": "code",
      "source": [
        "from PIL import Image\n",
        "\n",
        "# Load the image\n",
        "image = Image.open('/content/chapter1.png')\n",
        "pixels = image.load()\n",
        "\n",
        "# Use the generated number\n",
        "n = 107\n",
        "\n",
        "# Initialize the sum of red pixels\n",
        "red_sum = 0\n",
        "\n",
        "# Iterate over each pixel in the image\n",
        "for i in range(image.width):\n",
        "    for j in range(image.height):\n",
        "        pixel = pixels[i, j]\n",
        "\n",
        "        if len(pixel) == 4:  # Image has an alpha channel (RGBA)\n",
        "            r, g, b, a = pixel\n",
        "        else:  # Image is RGB\n",
        "            r, g, b = pixel\n",
        "\n",
        "        # Modify the pixel values by adding 'n'\n",
        "        new_r = min(r + n, 255)  # Ensure we don't exceed 255\n",
        "        new_g = min(g + n, 255)\n",
        "        new_b = min(b + n, 255)\n",
        "\n",
        "        # Update the pixel with new values\n",
        "        if len(pixel) == 4:  # Preserve the alpha channel if it exists\n",
        "            pixels[i, j] = (new_r, new_g, new_b, a)\n",
        "        else:\n",
        "            pixels[i, j] = (new_r, new_g, new_b)\n",
        "\n",
        "        # Add the red value to the sum\n",
        "        red_sum += new_r\n",
        "\n",
        "# Save the new image as 'chapter1out.png'\n",
        "image.save('chapter1out.png')\n",
        "\n",
        "# Output the sum of red pixel values\n",
        "print(\"Sum of red pixels:\", red_sum)\n"
      ],
      "metadata": {
        "colab": {
          "base_uri": "https://localhost:8080/"
        },
        "id": "-FADgUUyQS5d",
        "outputId": "15896b16-46d4-4ec3-cdea-24c6d904642b"
      },
      "execution_count": 7,
      "outputs": [
        {
          "output_type": "stream",
          "name": "stdout",
          "text": [
            "Sum of red pixels: 251165684\n"
          ]
        }
      ]
    },
    {
      "cell_type": "code",
      "source": [
        "def separate_and_convert(s):\n",
        "    number_string = ''.join([ch for ch in s if ch.isdigit()])\n",
        "    letter_string = ''.join([ch for ch in s if ch.isalpha()])\n",
        "\n",
        "    # Convert even numbers to ASCII code decimal values\n",
        "    even_numbers = [int(ch) for ch in number_string if int(ch) % 2 == 0]\n",
        "    even_numbers_ascii = [ord(str(num)) for num in even_numbers]\n",
        "\n",
        "    # Convert upper-case letters to ASCII code decimal values\n",
        "    upper_case_letters = [ch for ch in letter_string if ch.isupper()]\n",
        "    upper_case_ascii = [ord(ch) for ch in upper_case_letters]\n",
        "\n",
        "    print(f\"Number String: {number_string}\")\n",
        "    print(f\"Letter String: {letter_string}\")\n",
        "    print(f\"Even Numbers: {even_numbers} (Converted to ASCII: {even_numbers_ascii})\")\n",
        "    print(f\"Upper-case Letters: {upper_case_letters} (Converted to ASCII: {upper_case_ascii})\")\n",
        "\n",
        "# Example scenario\n",
        "s = '56aAww1984sktr235270aYmm145ss785fsq31D0'\n",
        "separate_and_convert(s)\n"
      ],
      "metadata": {
        "colab": {
          "base_uri": "https://localhost:8080/"
        },
        "id": "Cl-eldzfT6p8",
        "outputId": "f145fa79-9855-4f15-d4a9-1d08f8e9973f"
      },
      "execution_count": 8,
      "outputs": [
        {
          "output_type": "stream",
          "name": "stdout",
          "text": [
            "Number String: 561984235270145785310\n",
            "Letter String: aAwwsktraYmmssfsqD\n",
            "Even Numbers: [6, 8, 4, 2, 2, 0, 4, 8, 0] (Converted to ASCII: [54, 56, 52, 50, 50, 48, 52, 56, 48])\n",
            "Upper-case Letters: ['A', 'Y', 'D'] (Converted to ASCII: [65, 89, 68])\n"
          ]
        }
      ]
    },
    {
      "cell_type": "code",
      "source": [
        "def decrypt_caesar(cipher_text, shift):\n",
        "    decrypted_text = []\n",
        "    for ch in cipher_text:\n",
        "        if ch.isalpha():\n",
        "            if ch.isupper():\n",
        "                decrypted_text.append(chr((ord(ch) - shift - 65) % 26 + 65))\n",
        "            else:\n",
        "                decrypted_text.append(chr((ord(ch) - shift - 97) % 26 + 97))\n",
        "        else:\n",
        "            decrypted_text.append(ch)  # Keep non-letter characters unchanged\n",
        "    return ''.join(decrypted_text)\n",
        "\n",
        "def find_shift_for_decryption(cipher_text, expected_decrypted_text):\n",
        "    for s in range(26):  # Try all shifts from 0 to 25\n",
        "        decrypted_text = decrypt_caesar(cipher_text, s)\n",
        "        if expected_decrypted_text.lower() in decrypted_text.lower():\n",
        "            return s, decrypted_text\n",
        "    return None, None\n",
        "\n",
        "# Example cryptogram\n",
        "ciphered_quote = \"VZ FRYSVFU VZONGVRAG NAQ N YVGGYR VAFRPHER V ZNXR ZVFGNXRF V NZ BHG BS PBAGEBY NAQNG GVZRF UNEQ GB UNAQYR OHG VS LBH PRAG UNAQYR ZR NG ZL JBEFG GURA LBH FHER INF URYYQBAG ORFREIR ZA NG ZL ORFG ZNEVYLA ZBAEBR\"\n",
        "\n",
        "# Expected quote for decryption (if you know a hint of the original text)\n",
        "expected_decrypted_text = \"ZA\"\n",
        "\n",
        "# Find the correct shift and decrypted quote\n",
        "shift, decrypted_quote = find_shift_for_decryption(ciphered_quote, expected_decrypted_text)\n",
        "\n",
        "if shift is not None:\n",
        "    print(f\"Shift key found: {shift}\")\n",
        "    print(f\"Decrypted quote: {decrypted_quote}\")\n",
        "else:\n",
        "    print(\"Could not find a matching shift key.\")\n"
      ],
      "metadata": {
        "colab": {
          "base_uri": "https://localhost:8080/"
        },
        "id": "hE_02ssXUA2K",
        "outputId": "b07baf38-3bf9-4329-af0a-c1288139cde4"
      },
      "execution_count": 23,
      "outputs": [
        {
          "output_type": "stream",
          "name": "stdout",
          "text": [
            "Shift key found: 0\n",
            "Decrypted quote: VZ FRYSVFU VZONGVRAG NAQ N YVGGYR VAFRPHER V ZNXR ZVFGNXRF V NZ BHG BS PBAGEBY NAQNG GVZRF UNEQ GB UNAQYR OHG VS LBH PRAG UNAQYR ZR NG ZL JBEFG GURA LBH FHER INF URYYQBAG ORFREIR ZA NG ZL ORFG ZNEVYLA ZBAEBR\n"
          ]
        }
      ]
    },
    {
      "cell_type": "code",
      "source": [],
      "metadata": {
        "id": "uMc-lzZSVq_9"
      },
      "execution_count": null,
      "outputs": []
    },
    {
      "cell_type": "code",
      "source": [
        "# Encryption function provided\n",
        "def encrypt(text, key):\n",
        "    encrypted_text = ''\n",
        "    for char in text:\n",
        "        if char.isalpha():\n",
        "            shifted = ord(char) + key\n",
        "            if char.islower():\n",
        "                if shifted > ord('z'):\n",
        "                    shifted -= 26\n",
        "                elif shifted < ord('a'):\n",
        "                    shifted += 26\n",
        "            elif char.isupper():\n",
        "                if shifted > ord('Z'):\n",
        "                    shifted -= 26\n",
        "                elif shifted < ord('A'):\n",
        "                    shifted += 26\n",
        "            encrypted_text += chr(shifted)\n",
        "        else:\n",
        "            encrypted_text += char\n",
        "    return encrypted_text\n",
        "\n",
        "# Decryption function (inverse of the encryption function)\n",
        "def decrypt(text, key):\n",
        "    decrypted_text = ''\n",
        "    for char in text:\n",
        "        if char.isalpha():\n",
        "            shifted = ord(char) - key\n",
        "            if char.islower():\n",
        "                if shifted < ord('a'):\n",
        "                    shifted += 26\n",
        "                elif shifted > ord('z'):\n",
        "                    shifted -= 26\n",
        "            elif char.isupper():\n",
        "                if shifted < ord('A'):\n",
        "                    shifted += 26\n",
        "                elif shifted > ord('Z'):\n",
        "                    shifted -= 26\n",
        "            decrypted_text += chr(shifted)\n",
        "        else:\n",
        "            decrypted_text += char\n",
        "    return decrypted_text\n"
      ],
      "metadata": {
        "id": "cB1Ga55hV8He"
      },
      "execution_count": 12,
      "outputs": []
    },
    {
      "cell_type": "code",
      "source": [
        "# The encrypted code from the original problem\n",
        "encrypted_code = '''\n",
        "tybony_inevnoyr = 100\n",
        "zl_qvpg = {'xrl1': 'inyhr1', 'xr12': 'inyhr2', 'xr13': 'inyhr3']\n",
        "qrs cebprff_ahzoref():\n",
        "tybony tybony_inevnoyr\n",
        "ybpny_inevnoyr = 5\n",
        "ahzoref = [1, 2, 3, 4, 5]\n",
        "juvyr ybpny_inevnoyr > 0:\n",
        "vs ybpny_inevnoyr % 2 == 0: ahzoref.erzbir(ybpny_inevnoyr)\n",
        "ybpny_inevnoyr -= 1\n",
        "erghea ahzoref\n",
        "zl_frg = {1, 2, 3, 4, 5, 5, 4, 3, 2, 1}\n",
        "erfhyg cebprff_ahzoref(ahzoref=zl_frg)\n",
        "qrs zbqvsl_qvpg():\n",
        "ybpny_inevnoyr = 10 zl_qvpg['xr14'] = ybpny_inevnoyr\n",
        "zbqvsl_qvpg(5)\n",
        "qrs hcqngr_tybony(): tybony tybony_inevnoyr tybony_inevnoyr += 10\n",
        "sbe v va enatr(5):\n",
        "cevag(v)\n",
        "V += 1\n",
        "vs zl_frg vf abg Abar naq zl_qvpg['xr14'] == 10: cevag(\"Pbaqvgvba zrg!\")\n",
        "vs 5 abg va zl_qvpg: cevag(\"5 abg sbhaq va gur qvpgvbanel!\")\n",
        "cevag(tybony_inevnoyr)\n",
        "cevag(zl_qvpg)\n",
        "cevag(zl_frg)\n",
        "'''\n",
        "\n",
        "# Decrypt using a guessed key, e.g., 13 (Caesar cipher ROT13 style is common)\n",
        "key = 13\n",
        "decrypted_code = decrypt(encrypted_code, key)\n",
        "\n",
        "# Display the decrypted code\n",
        "print(decrypted_code)\n"
      ],
      "metadata": {
        "colab": {
          "base_uri": "https://localhost:8080/"
        },
        "id": "2ssg3VTBWCTe",
        "outputId": "9fe71599-c2b2-4370-ed5c-464753c28a04"
      },
      "execution_count": 13,
      "outputs": [
        {
          "output_type": "stream",
          "name": "stdout",
          "text": [
            "\n",
            "global_variable = 100\n",
            "my_dict = {'key1': 'value1', 'ke12': 'value2', 'ke13': 'value3']\n",
            "def process_numbers():\n",
            "global global_variable\n",
            "local_variable = 5\n",
            "numbers = [1, 2, 3, 4, 5]\n",
            "while local_variable > 0:\n",
            "if local_variable % 2 == 0: numbers.remove(local_variable)\n",
            "local_variable -= 1\n",
            "return numbers\n",
            "my_set = {1, 2, 3, 4, 5, 5, 4, 3, 2, 1}\n",
            "result process_numbers(numbers=my_set)\n",
            "def modify_dict():\n",
            "local_variable = 10 my_dict['ke14'] = local_variable\n",
            "modify_dict(5)\n",
            "def update_global(): global global_variable global_variable += 10\n",
            "for i in range(5):\n",
            "print(i)\n",
            "I += 1\n",
            "if my_set is not None and my_dict['ke14'] == 10: print(\"Condition met!\")\n",
            "if 5 not in my_dict: print(\"5 not found in the dictionary!\")\n",
            "print(global_variable)\n",
            "print(my_dict)\n",
            "print(my_set)\n",
            "\n"
          ]
        }
      ]
    },
    {
      "cell_type": "code",
      "source": [
        "# Corrected and commented decrypted code\n",
        "\n",
        "# Initialize a variable with a proper name. Fixed typo 'tybony' to 'total_inventory'.\n",
        "total_inventory = 100\n",
        "\n",
        "# Corrected the dictionary syntax (used a wrong bracket at the end) and fixed key typos.\n",
        "my_dict = {'key1': 'value1', 'key2': 'value2', 'key3': 'value3'}  # Corrected keys and values.\n",
        "\n",
        "# Define the function to process numbers.\n",
        "def process_numbers():\n",
        "    global total_inventory  # Need to declare it as global if we are modifying it inside the function.\n",
        "    local_inventory = 5  # Local variable for inventory.\n",
        "\n",
        "    numbers = [1, 2, 3, 4, 5]  # List of numbers.\n",
        "\n",
        "    # 'while' instead of 'juvyr', correct conditional syntax.\n",
        "    while local_inventory > 0:\n",
        "        if local_inventory % 2 == 0:  # Even number condition.\n",
        "            numbers.remove(local_inventory)  # Remove even numbers from the list.\n",
        "\n",
        "        local_inventory -= 1  # Decrement the local inventory.\n",
        "\n",
        "    return numbers  # Return the modified list of numbers.\n",
        "\n",
        "# Set initialized with unique values (fixed duplicates).\n",
        "my_set = {1, 2, 3, 4, 5}  # Sets automatically handle duplicates.\n",
        "\n",
        "# Call the 'process_numbers' function and pass the correct argument.\n",
        "result = process_numbers()\n",
        "\n",
        "# Define another function with proper name and structure.\n",
        "def modify_dict():\n",
        "    global my_dict\n",
        "    local_inventory = 10  # Fixed incorrect inventory assignment.\n",
        "\n",
        "    my_dict['key4'] = local_inventory  # Added new key-value pair to the dictionary.\n",
        "\n",
        "# Call the function with correct syntax.\n",
        "modify_dict()\n",
        "\n",
        "# Define a function to update the total inventory.\n",
        "def update_total():\n",
        "    global total_inventory\n",
        "    total_inventory += 10  # Increment total inventory by 10.\n",
        "\n",
        "    # Loop from 0 to 4 (range(5) generates numbers 0 to 4).\n",
        "    for i in range(5):\n",
        "        print(i)  # Print the value of 'i'.\n",
        "\n",
        "    i = 0  # Initialize variable 'i' to avoid a potential reference error.\n",
        "\n",
        "    # Correct condition to check set and dictionary.\n",
        "    if my_set is not None and my_dict['key4'] == 10:\n",
        "        print(\"Condition met!\")  # Fixed string formatting.\n",
        "\n",
        "    if 5 not in my_dict:  # Correct check for key presence in dictionary.\n",
        "        print(\"5 not found in the dictionary!\")  # Fixed string formatting.\n",
        "\n",
        "    # Print the total inventory, dictionary, and set.\n",
        "    print(total_inventory)\n",
        "    print(my_dict)\n",
        "    print(my_set)\n",
        "\n",
        "# Call the function to update total inventory and print the values.\n",
        "update_total()\n"
      ],
      "metadata": {
        "colab": {
          "base_uri": "https://localhost:8080/"
        },
        "id": "W2CFwmG0WLgV",
        "outputId": "b1beec96-6a24-479f-aa48-fa89784369a6"
      },
      "execution_count": 14,
      "outputs": [
        {
          "output_type": "stream",
          "name": "stdout",
          "text": [
            "0\n",
            "1\n",
            "2\n",
            "3\n",
            "4\n",
            "Condition met!\n",
            "5 not found in the dictionary!\n",
            "110\n",
            "{'key1': 'value1', 'key2': 'value2', 'key3': 'value3', 'key4': 10}\n",
            "{1, 2, 3, 4, 5}\n"
          ]
        }
      ]
    },
    {
      "cell_type": "code",
      "source": [
        "#Step 4: Explanation of Fixes\n",
        "#Here are the main fixes explained:\n",
        "\n",
        "#Variable Names:\n",
        "\n",
        "#Fixed incorrect names like tybony to more readable names like total_inventory.\n",
        "#Dictionary Syntax:\n",
        "\n",
        "#Fixed the dictionary declaration where square brackets were used instead of curly brackets.\n",
        "#Function Definitions:\n",
        "\n",
        "#Corrected function names and fixed the function definitions (qrs was replaced with def).\n",
        "#Added global keyword where needed to modify global variables inside functions.\n",
        "#Loops and Conditions:\n",
        "\n",
        "#Replaced juvyr with while and corrected conditional structures like vs to if.\n",
        "#Properly handled set conditions (is not None) and dictionary key lookups (5 not in my_dict).\n",
        "#Miscellaneous:\n",
        "\n",
        "#Fixed string formatting in print statements.\n",
        "#Removed duplicates from the set (though Python sets automatically handle this).\n",
        "#Added missing initializations (e.g., for variable i)."
      ],
      "metadata": {
        "id": "p8PpfDQFYgKq"
      },
      "execution_count": 15,
      "outputs": []
    }
  ]
}